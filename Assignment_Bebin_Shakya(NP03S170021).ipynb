{
 "cells": [
  {
   "cell_type": "code",
   "execution_count": 3,
   "metadata": {},
   "outputs": [
    {
     "name": "stdout",
     "output_type": "stream",
     "text": [
      "[(10, 20, 100), (40, 50, 100), (70, 80, 100)]\n"
     ]
    }
   ],
   "source": [
    "#Q1\n",
    "list = [(10,20,40),(40,50,60),(70,80,90)]\n",
    "result = ([i[:-1]+(100,) for i in list])\n",
    "print (result)\n",
    "\n",
    "\n"
   ]
  },
  {
   "cell_type": "code",
   "execution_count": 4,
   "metadata": {
    "scrolled": true
   },
   "outputs": [
    {
     "name": "stdout",
     "output_type": "stream",
     "text": [
      "2\n"
     ]
    }
   ],
   "source": [
    "#Q2\n",
    "input = 'ABCDCDC'\n",
    "sub = 'CDC'\n",
    "count = 0\n",
    "a = len(input)\n",
    "for i in range(0, len(input)):\n",
    "    if input[i:i+len(sub)]==sub:\n",
    "        count += 1\n",
    "print(count)\n",
    "\n",
    "\n"
   ]
  },
  {
   "cell_type": "code",
   "execution_count": 5,
   "metadata": {},
   "outputs": [
    {
     "name": "stdout",
     "output_type": "stream",
     "text": [
      "tHIS IS Me 123\n"
     ]
    }
   ],
   "source": [
    "#Q3\n",
    "input = 'This is mE 123'\n",
    "output =''\n",
    "for i in input:\n",
    "    if(ord(i)>=65 and ord(i)<=90):\n",
    "        output += chr(ord(i)+32)\n",
    "    elif(ord(i)>=97 and ord(i)<=122):\n",
    "          output +=chr(ord(i)-32)\n",
    "    else:\n",
    "          output +=chr(ord(i))\n",
    "print(output)\n"
   ]
  },
  {
   "cell_type": "code",
   "execution_count": null,
   "metadata": {},
   "outputs": [],
   "source": [
    "#Q4\n",
    "class EvenString:\n",
    "\n",
    "    def __init__(self):\n",
    "        self.text = \"\"\n",
    "        self.output = \"\"\n",
    "    \n",
    "  \n",
    "    \n",
    "    def enter_text(self):\n",
    "        self.text = input('Enter the string...')\n",
    "\n",
    "        for i in self.text:\n",
    "            if (self.text.index(i) % 2 == 0):\n",
    "                self.output +=i \n",
    "\n",
    "        return self.output\n",
    "    \n",
    "\n",
    "    \n",
    "    def print_output(self):\n",
    "        print(\"The resulted string is:\", self.output)\n",
    "\n",
    "if __name__ == \"__main__\":\n",
    "    es = EvenString()\n",
    "    es.enter_text()\n",
    "    es.print_output()"
   ]
  },
  {
   "cell_type": "code",
   "execution_count": null,
   "metadata": {},
   "outputs": [],
   "source": []
  }
 ],
 "metadata": {
  "kernelspec": {
   "display_name": "Python 3",
   "language": "python",
   "name": "python3"
  },
  "language_info": {
   "codemirror_mode": {
    "name": "ipython",
    "version": 3
   },
   "file_extension": ".py",
   "mimetype": "text/x-python",
   "name": "python",
   "nbconvert_exporter": "python",
   "pygments_lexer": "ipython3",
   "version": "3.6.5"
  }
 },
 "nbformat": 4,
 "nbformat_minor": 2
}
